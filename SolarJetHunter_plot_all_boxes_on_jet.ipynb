{
 "cells": [
  {
   "cell_type": "markdown",
   "id": "25721f44-a096-4576-9aae-04102e4ca713",
   "metadata": {},
   "source": [
    "In this notebook we will:\n",
    "- select a jet in the Solar Jet Hunter catalogue\n",
    "- plot a frame of the jet and plot the average box around the jet\n",
    "- plot all the boxes found from different subjects in Zooniverse for this jet\n",
    "- plot one of the subject box on the jet\n",
    "\n",
    "You will need to have the data already downloaded for this jet, see the notebook 'SolarJetHunter_download_solar_data'"
   ]
  },
  {
   "cell_type": "markdown",
   "id": "75a575f3-6f4e-40e8-ba23-7a14f2ba4672",
   "metadata": {},
   "source": [
    "# Open catalogue and select a jet"
   ]
  },
  {
   "cell_type": "markdown",
   "id": "454a990a-419a-4919-9531-710d25f403c8",
   "metadata": {},
   "source": [
    "### Open catalogue\n",
    "See tutorial for more details"
   ]
  },
  {
   "cell_type": "code",
   "execution_count": 3,
   "id": "e3da0ca5-b077-44db-92e4-4bc8a6a882e2",
   "metadata": {},
   "outputs": [],
   "source": [
    "import numpy as np\n",
    "from utils.Jet_class_light import json_import_list"
   ]
  },
  {
   "cell_type": "code",
   "execution_count": 13,
   "id": "62c099a5-0a36-4795-b53e-ae393a6f183c",
   "metadata": {},
   "outputs": [
    {
     "name": "stdout",
     "output_type": "stream",
     "text": [
      "The 883 JetCluster objects are imported from exports/Jet_clusters_3.0_2.0.paperID.json.\n"
     ]
    }
   ],
   "source": [
    "json_file = 'exports/Jet_clusters_3.0_2.0.paperID.json'\n",
    "Jet_catalogue=json_import_list(json_file)"
   ]
  },
  {
   "cell_type": "markdown",
   "id": "786d87cb-f506-49d6-b141-7a2a28efc6b1",
   "metadata": {},
   "source": [
    "### Select a jet"
   ]
  },
  {
   "cell_type": "code",
   "execution_count": 14,
   "id": "ed936672-f48e-414f-ba61-5c5e25eba04f",
   "metadata": {},
   "outputs": [],
   "source": [
    "jetid = 508\n",
    "selected_jet = Jet_catalogue[jetid]"
   ]
  },
  {
   "cell_type": "markdown",
   "id": "00fb5afc-7316-4297-aa5f-e4d941bb0697",
   "metadata": {},
   "source": [
    "Print some jet properties as a check"
   ]
  },
  {
   "cell_type": "code",
   "execution_count": 15,
   "id": "914d0291-6dba-4852-a4f9-451e76765bd6",
   "metadata": {},
   "outputs": [
    {
     "name": "stdout",
     "output_type": "stream",
     "text": [
      "2015-09-21T02:00:30.000000\n",
      "2015-09-21T02:45:06.000000\n",
      "sjh_2015-09-21T02_1\n"
     ]
    }
   ],
   "source": [
    "jet_start_time = selected_jet.obs_time\n",
    "jet_end_time = selected_jet.obs_time + np.timedelta64(int(selected_jet.Duration*60), 's')\n",
    "jet_sjh_identifier = selected_jet.ID\n",
    "print(jet_start_time)\n",
    "print(jet_end_time)\n",
    "print(jet_sjh_identifier)"
   ]
  },
  {
   "cell_type": "markdown",
   "id": "c7de4a62-4b54-4a63-9db2-96088cb03139",
   "metadata": {},
   "source": [
    "# Plot one frame of the jet and overlay average box"
   ]
  },
  {
   "cell_type": "markdown",
   "id": "7dc3a17f-4234-4d8b-ab69-dafcf9c34904",
   "metadata": {},
   "source": [
    "# Plot all subject boxes and average box"
   ]
  },
  {
   "cell_type": "markdown",
   "id": "f1397328-c395-40a0-8c44-27b480825035",
   "metadata": {},
   "source": [
    "# Plot one subject box over the jet"
   ]
  },
  {
   "cell_type": "code",
   "execution_count": null,
   "id": "23c444ee-04c6-4eb2-8e7a-c56af6aa11e7",
   "metadata": {},
   "outputs": [],
   "source": []
  }
 ],
 "metadata": {
  "kernelspec": {
   "display_name": "sunpyenv",
   "language": "python",
   "name": "sunpyenv"
  },
  "language_info": {
   "codemirror_mode": {
    "name": "ipython",
    "version": 3
   },
   "file_extension": ".py",
   "mimetype": "text/x-python",
   "name": "python",
   "nbconvert_exporter": "python",
   "pygments_lexer": "ipython3",
   "version": "3.12.2"
  }
 },
 "nbformat": 4,
 "nbformat_minor": 5
}
