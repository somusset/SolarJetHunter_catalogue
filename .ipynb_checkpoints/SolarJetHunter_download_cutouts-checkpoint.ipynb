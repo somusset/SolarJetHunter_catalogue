{
 "cells": [
  {
   "cell_type": "markdown",
   "id": "15d3ea78-41dd-4905-a46a-3db8d02088fe",
   "metadata": {},
   "source": [
    "This notebook shows how to download solar images (AIA cutouts) for a given jet in the Solar Jet Hunter catalogue.  \n",
    "### To do before anything else\n",
    "- In the directory `data`, create a subdirectory named `sjh_cutouts` if not done already. The data will be downloaded there.\n",
    "- To download cutouts, you need to provide your email address. Please change it in the next line. You also need to register your email to the JSOC service [here](http://jsoc.stanford.edu/ajax/register_email.html) if you never did this before. JSOC is the provider of the data."
   ]
  },
  {
   "cell_type": "code",
   "execution_count": 1,
   "id": "04f666ed-47b0-4150-9a84-80278d451f68",
   "metadata": {},
   "outputs": [],
   "source": [
    "jsoc_email = \"your.email.address.here@domain.com\" ## Change this to your email address."
   ]
  },
  {
   "cell_type": "markdown",
   "id": "4d54ce48-4e40-4f90-8c23-84e80fd2a640",
   "metadata": {},
   "source": [
    "# Open catalogue and choose a jet"
   ]
  },
  {
   "cell_type": "markdown",
   "id": "bedf24b7-f806-4667-beec-698441190c25",
   "metadata": {},
   "source": [
    "### Open catalogue\n",
    "See tutorial for more details"
   ]
  },
  {
   "cell_type": "code",
   "execution_count": 8,
   "id": "9e9e4cd9-2c30-455c-9594-df740a786012",
   "metadata": {},
   "outputs": [],
   "source": [
    "import os\n",
    "import numpy as np\n",
    "from utils.Jet_class_light import json_import_list"
   ]
  },
  {
   "cell_type": "code",
   "execution_count": 3,
   "id": "4ae2c761-3f5d-4c8d-b6cc-0acb72f05fb1",
   "metadata": {},
   "outputs": [
    {
     "name": "stdout",
     "output_type": "stream",
     "text": [
      "The 883 JetCluster objects are imported from exports/Jet_clusters_3.0_2.0.paperID.json.\n"
     ]
    }
   ],
   "source": [
    "json_file = 'exports/Jet_clusters_3.0_2.0.paperID.json'\n",
    "Jet_catalogue=json_import_list(json_file)"
   ]
  },
  {
   "cell_type": "markdown",
   "id": "152d21cb-35bc-4214-b5c7-751ce9b5d266",
   "metadata": {},
   "source": [
    "### Select a jet"
   ]
  },
  {
   "cell_type": "code",
   "execution_count": 4,
   "id": "05c9a1b7-d6cd-457c-a620-ed84b9b1341a",
   "metadata": {},
   "outputs": [],
   "source": [
    "jetid = 509\n",
    "selected_jet = Jet_catalogue[jetid]"
   ]
  },
  {
   "cell_type": "markdown",
   "id": "c0dfb72f-e9cd-4d76-aa2a-50321963ec1c",
   "metadata": {},
   "source": [
    "Print some of the jet's properties as a check"
   ]
  },
  {
   "cell_type": "code",
   "execution_count": 5,
   "id": "41374201-fb80-4b0d-83c7-5e75a0231da7",
   "metadata": {},
   "outputs": [
    {
     "name": "stdout",
     "output_type": "stream",
     "text": [
      "2015-09-22T21:56:06.000000\n",
      "2015-09-22T22:27:42.000000\n",
      "sjh_2015-09-22T21_1\n"
     ]
    }
   ],
   "source": [
    "jet_start_time = selected_jet.obs_time\n",
    "jet_end_time = selected_jet.obs_time + np.timedelta64(int(selected_jet.Duration*60), 's')\n",
    "jet_sjh_identifier = selected_jet.ID\n",
    "print(jet_start_time)\n",
    "print(jet_end_time)\n",
    "print(jet_sjh_identifier)"
   ]
  },
  {
   "cell_type": "markdown",
   "id": "b2e30272-7798-4e5e-befa-ffb5cc2638d0",
   "metadata": {},
   "source": [
    "### Extract the box information for this jet"
   ]
  },
  {
   "cell_type": "code",
   "execution_count": 12,
   "id": "b1662970-864f-4f0b-b670-a571f837fb84",
   "metadata": {},
   "outputs": [],
   "source": [
    "from utils.Jet_box_class import make_cluster_box"
   ]
  },
  {
   "cell_type": "code",
   "execution_count": 13,
   "id": "e8f6bf2a-2d78-48f0-89e3-9a64bc0636e7",
   "metadata": {},
   "outputs": [],
   "source": [
    "jet_box = make_cluster_box(selected_jet)"
   ]
  },
  {
   "cell_type": "markdown",
   "id": "1cc6193f-89a4-4ec3-a01a-95aa5162d32b",
   "metadata": {},
   "source": [
    "### Path to the directory that will contain the data"
   ]
  },
  {
   "cell_type": "code",
   "execution_count": 6,
   "id": "42d6a308-f95e-4618-83c6-86f96c1d2d17",
   "metadata": {},
   "outputs": [
    {
     "name": "stdout",
     "output_type": "stream",
     "text": [
      "data//sjh_cutouts//sjh_2015-09-22T21_1\n"
     ]
    }
   ],
   "source": [
    "data_path = 'data//sjh_cutouts//'+selected_jet.ID\n",
    "print(data_path)"
   ]
  },
  {
   "cell_type": "markdown",
   "id": "efa1af0c-57cf-4701-92c3-1307b470402c",
   "metadata": {},
   "source": [
    "Check if this directory exists, and if not, create it"
   ]
  },
  {
   "cell_type": "code",
   "execution_count": 9,
   "id": "228a7ba4-d85a-4b2c-a11f-98ba54f227a2",
   "metadata": {},
   "outputs": [],
   "source": [
    "if not os.path.exists(data_path): os.mkdir(data_path)"
   ]
  },
  {
   "cell_type": "markdown",
   "id": "a51a8bfe-348b-4755-a8ac-112b5610823c",
   "metadata": {},
   "source": [
    "# Download the data"
   ]
  },
  {
   "cell_type": "markdown",
   "id": "e9577112-54e6-45ce-89ea-87b9f46e80ac",
   "metadata": {},
   "source": [
    "### Prepare the download request"
   ]
  },
  {
   "cell_type": "code",
   "execution_count": 17,
   "id": "a5ba5184-4fb0-4250-a16e-4548471a4449",
   "metadata": {},
   "outputs": [],
   "source": [
    "from astropy.coordinates import SkyCoord\n",
    "import sunpy.coordinates  # Needed for helioprojective coordinate frame\n",
    "from sunpy.net import Fido\n",
    "from sunpy.net import attrs as a\n",
    "import astropy.units as u"
   ]
  },
  {
   "cell_type": "markdown",
   "id": "d39bebc4-22f4-4a43-b98c-67761f60ef21",
   "metadata": {},
   "source": [
    "Calculate the coordinates of the field of view to be requested, from the jet box size and the jet base position"
   ]
  },
  {
   "cell_type": "code",
   "execution_count": 15,
   "id": "c69d6ca9-cfa2-41c6-ab35-3be4d7fa5d17",
   "metadata": {},
   "outputs": [],
   "source": [
    "cutout_half_side = 60 if jet_box.height.value < 60 else jet_box.height.value + 20\n",
    "x1 = jet_box.base[0].value - cutout_half_side\n",
    "x2 = jet_box.base[0].value + cutout_half_side\n",
    "y1 = jet_box.base[1].value - cutout_half_side\n",
    "y2 = jet_box.base[1].value + cutout_half_side"
   ]
  },
  {
   "cell_type": "markdown",
   "id": "6b149033-b7df-4e98-a1a0-f0d7501f342d",
   "metadata": {},
   "source": [
    "### Query"
   ]
  },
  {
   "cell_type": "code",
   "execution_count": 18,
   "id": "ac1f76dc-6898-4690-8111-5c6c1f9f9e36",
   "metadata": {},
   "outputs": [],
   "source": [
    "bottom_left = SkyCoord(x1*u.arcsec, y1*u.arcsec, obstime=jet_start_time, observer=\"earth\", frame=\"helioprojective\")\n",
    "top_right = SkyCoord(x2*u.arcsec, y2*u.arcsec, obstime=jet_start_time, observer=\"earth\", frame=\"helioprojective\")"
   ]
  },
  {
   "cell_type": "code",
   "execution_count": 19,
   "id": "5ed6c3aa-19fd-4837-83c9-d73d946d24da",
   "metadata": {},
   "outputs": [],
   "source": [
    "cutout = a.jsoc.Cutout(bottom_left, top_right=top_right, tracking=False)"
   ]
  },
  {
   "cell_type": "code",
   "execution_count": 20,
   "id": "d198de40-ff89-4e59-8ba4-424e74352b32",
   "metadata": {},
   "outputs": [
    {
     "name": "stdout",
     "output_type": "stream",
     "text": [
      "Results from 1 Provider:\n",
      "\n",
      "80 Results from the JSOCClient:\n",
      "Source: http://jsoc.stanford.edu\n",
      "\n",
      "       T_REC         TELESCOP INSTRUME WAVELNTH CAR_ROT\n",
      "-------------------- -------- -------- -------- -------\n",
      "2015-09-22T21:56:00Z  SDO/AIA    AIA_4      304    2168\n",
      "2015-09-22T21:56:24Z  SDO/AIA    AIA_4      304    2168\n",
      "2015-09-22T21:56:48Z  SDO/AIA    AIA_4      304    2168\n",
      "2015-09-22T21:57:12Z  SDO/AIA    AIA_4      304    2168\n",
      "2015-09-22T21:57:36Z  SDO/AIA    AIA_4      304    2168\n",
      "2015-09-22T21:58:00Z  SDO/AIA    AIA_4      304    2168\n",
      "2015-09-22T21:58:24Z  SDO/AIA    AIA_4      304    2168\n",
      "2015-09-22T21:58:48Z  SDO/AIA    AIA_4      304    2168\n",
      "2015-09-22T21:59:12Z  SDO/AIA    AIA_4      304    2168\n",
      "2015-09-22T21:59:36Z  SDO/AIA    AIA_4      304    2168\n",
      "                 ...      ...      ...      ...     ...\n",
      "2015-09-22T22:23:36Z  SDO/AIA    AIA_4      304    2168\n",
      "2015-09-22T22:24:00Z  SDO/AIA    AIA_4      304    2168\n",
      "2015-09-22T22:24:24Z  SDO/AIA    AIA_4      304    2168\n",
      "2015-09-22T22:24:48Z  SDO/AIA    AIA_4      304    2168\n",
      "2015-09-22T22:25:12Z  SDO/AIA    AIA_4      304    2168\n",
      "2015-09-22T22:25:36Z  SDO/AIA    AIA_4      304    2168\n",
      "2015-09-22T22:26:00Z  SDO/AIA    AIA_4      304    2168\n",
      "2015-09-22T22:26:24Z  SDO/AIA    AIA_4      304    2168\n",
      "2015-09-22T22:26:48Z  SDO/AIA    AIA_4      304    2168\n",
      "2015-09-22T22:27:12Z  SDO/AIA    AIA_4      304    2168\n",
      "2015-09-22T22:27:36Z  SDO/AIA    AIA_4      304    2168\n",
      "Length = 80 rows\n",
      "\n",
      "\n"
     ]
    }
   ],
   "source": [
    "query = Fido.search(\n",
    "    a.Time(jet_start_time, jet_end_time),\n",
    "    a.Wavelength(304*u.angstrom),  ## Wavelength of the data shown in Solar Jet Hunter\n",
    "    a.Sample(24*u.s),  ## this is to match the cadence of the data shown in Solar Jet Hunter\n",
    "    a.jsoc.Series.aia_lev1_euv_12s,\n",
    "    a.jsoc.Notify(jsoc_email),\n",
    "    a.jsoc.Segment.image,\n",
    "    cutout,\n",
    ")\n",
    "print(query)"
   ]
  },
  {
   "cell_type": "markdown",
   "id": "a73ed051-5095-48a1-a2d2-7d5baa7533f9",
   "metadata": {},
   "source": [
    "### Start download"
   ]
  },
  {
   "cell_type": "code",
   "execution_count": 22,
   "id": "42bf4c37-3ab2-4420-bde6-6928d3ca6a3d",
   "metadata": {},
   "outputs": [],
   "source": [
    "files = Fido.fetch(query, overwrite=False, path=data_path)"
   ]
  },
  {
   "cell_type": "code",
   "execution_count": null,
   "id": "f43f1f2d-c9db-4ff2-b916-517f87b229f5",
   "metadata": {},
   "outputs": [],
   "source": []
  }
 ],
 "metadata": {
  "kernelspec": {
   "display_name": "sunpyenv",
   "language": "python",
   "name": "sunpyenv"
  },
  "language_info": {
   "codemirror_mode": {
    "name": "ipython",
    "version": 3
   },
   "file_extension": ".py",
   "mimetype": "text/x-python",
   "name": "python",
   "nbconvert_exporter": "python",
   "pygments_lexer": "ipython3",
   "version": "3.12.2"
  }
 },
 "nbformat": 4,
 "nbformat_minor": 5
}
