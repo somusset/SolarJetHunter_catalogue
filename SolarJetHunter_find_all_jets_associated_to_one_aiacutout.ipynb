{
 "cells": [
  {
   "cell_type": "markdown",
   "id": "56e14f0e-6821-4668-beeb-c78f157d52c1",
   "metadata": {},
   "source": [
    "In this notebook we load a AIA cutout image and look into the jet catalogue to plot all the boxes of all the jets relevant to that cutout image."
   ]
  },
  {
   "cell_type": "markdown",
   "id": "0b8b4cd9-e3f0-4c64-b52e-d016bb091eda",
   "metadata": {},
   "source": [
    "## Load a AIA cutout image\n",
    "In the previously downloaded cutout (see corresponding notebook if you need to download cutouts)"
   ]
  },
  {
   "cell_type": "code",
   "execution_count": 1,
   "id": "786aea3d-2c94-4895-8694-01883fee2e0f",
   "metadata": {},
   "outputs": [],
   "source": [
    "data_path = 'data/sjh_cutouts/sjh_2015-09-22T21_1/'"
   ]
  },
  {
   "cell_type": "code",
   "execution_count": 2,
   "id": "d660f07d-2824-4d69-9fcc-da9455d97b6e",
   "metadata": {},
   "outputs": [
    {
     "name": "stderr",
     "output_type": "stream",
     "text": [
      "C:\\Users\\SMusset\\anaconda3\\envs\\sunpyenv\\Lib\\site-packages\\tqdm\\auto.py:21: TqdmWarning: IProgress not found. Please update jupyter and ipywidgets. See https://ipywidgets.readthedocs.io/en/stable/user_install.html\n",
      "  from .autonotebook import tqdm as notebook_tqdm\n"
     ]
    }
   ],
   "source": [
    "import glob\n",
    "import sunpy.map"
   ]
  },
  {
   "cell_type": "code",
   "execution_count": 3,
   "id": "6fdd2499-076c-4fe8-a0c1-0c15b11a3f90",
   "metadata": {},
   "outputs": [],
   "source": [
    "files = glob.glob(data_path+\"/aia.lev1_euv_12s.*.304.image.fits\")\n",
    "aia_map = sunpy.map.Map(files[52])\n",
    "aia_frame_date = aia_map.date.datetime64"
   ]
  },
  {
   "cell_type": "markdown",
   "id": "7f638653-1909-4cc8-bf0e-620d49ff82b8",
   "metadata": {},
   "source": [
    "## Load jet catalogue"
   ]
  },
  {
   "cell_type": "code",
   "execution_count": 4,
   "id": "f88bc37a-d9f1-4376-afd1-029e27b84894",
   "metadata": {},
   "outputs": [],
   "source": [
    "import numpy as np\n",
    "from utils.Jet_class_light import json_import_list"
   ]
  },
  {
   "cell_type": "code",
   "execution_count": 5,
   "id": "e70fcb5e-8c80-4209-8a7e-5b82644f09e3",
   "metadata": {},
   "outputs": [
    {
     "name": "stdout",
     "output_type": "stream",
     "text": [
      "The 883 JetCluster objects are imported from exports/Jet_clusters_3.0_2.0.paperID.json.\n"
     ]
    }
   ],
   "source": [
    "json_file = 'exports/Jet_clusters_3.0_2.0.paperID.json'\n",
    "Jet_catalogue=json_import_list(json_file)"
   ]
  },
  {
   "cell_type": "code",
   "execution_count": 6,
   "id": "b4e69265-1f68-48e8-b998-19451be1fa75",
   "metadata": {},
   "outputs": [],
   "source": [
    "jet_start_time = np.array([Jet_catalogue[i].obs_time for i in range(len(Jet_catalogue))], dtype='datetime64')\n",
    "jet_dur = np.array([Jet_catalogue[i].Duration for i in range(len(Jet_catalogue))], dtype=float)\n",
    "jet_end_time = jet_start_time + (jet_dur*60).astype('timedelta64[s]')"
   ]
  },
  {
   "cell_type": "markdown",
   "id": "5627e273-8ab9-48c1-a301-37c48f0b22b9",
   "metadata": {},
   "source": [
    "## Find jets associated with the AIA cutout image\n",
    "And plot the jet boxes on the AIA map"
   ]
  },
  {
   "cell_type": "markdown",
   "id": "5ed142be-ec6d-41a5-9862-2bca622d53a9",
   "metadata": {},
   "source": [
    "### Find other jets in the catalogue happening at the time of the AIA frame\n",
    "Check if there are any other jet in the catalogue that match the aia frame time and print relevant times. Note that you will find the current jet too! I am keeping everything as it is simple."
   ]
  },
  {
   "cell_type": "code",
   "execution_count": 7,
   "id": "0b331dc4-906d-4456-a402-fc13169caf38",
   "metadata": {},
   "outputs": [
    {
     "name": "stdout",
     "output_type": "stream",
     "text": [
      "cutout time:  2015-09-22T22:16:54.123000000\n",
      "associated jets: start and end times:\n",
      "2015-09-22T21:56:06.000000 2015-09-22T22:27:42.000000\n",
      "2015-09-22T22:11:42.000000 2015-09-22T22:17:18.000000\n"
     ]
    }
   ],
   "source": [
    "# Finding all jets that exist for this data frame\n",
    "matching_time_jets = np.where(np.array([jet_start_time < aia_frame_date])*np.array([jet_end_time > aia_frame_date]))[1]\n",
    "print('cutout time: ', aia_frame_date)\n",
    "print('associated jets: start and end times:')\n",
    "for jetindice in matching_time_jets:\n",
    "    print(jet_start_time[jetindice], jet_end_time[jetindice])"
   ]
  },
  {
   "cell_type": "markdown",
   "id": "999e4eee-9024-427f-91ed-3134444e390b",
   "metadata": {},
   "source": [
    "### If jets where found, now check if their box overlap with the AIA frame\n",
    "Extract FOV corners from the AIA cutout and make a polygon"
   ]
  },
  {
   "cell_type": "code",
   "execution_count": 8,
   "id": "316bc369-1341-451d-950e-7f670eeba392",
   "metadata": {},
   "outputs": [],
   "source": [
    "from shapely.geometry import Polygon\n",
    "from utils.Jet_box_class import make_cluster_box, make_subject_box, plot_all_subject_boxes_and_average_box"
   ]
  },
  {
   "cell_type": "code",
   "execution_count": 9,
   "id": "50b9dd2b-d43b-448e-9d0e-b8dcb9addf4e",
   "metadata": {},
   "outputs": [],
   "source": [
    "xmin = aia_map.bottom_left_coord.Tx.value\n",
    "ymin = aia_map.bottom_left_coord.Ty.value\n",
    "xmax = aia_map.top_right_coord.Tx.value\n",
    "ymax = aia_map.top_right_coord.Ty.value\n",
    "poly_cutout_fov = Polygon([(xmin,ymin), (xmin,ymax), (xmax,ymax), (xmax,ymin)])"
   ]
  },
  {
   "cell_type": "markdown",
   "id": "4365a0e7-445e-4f80-9050-a57bd2b2cd76",
   "metadata": {},
   "source": [
    "For each jet, extract the box associated with that frame, create a polygon, and check if there is intersection with the cutout FOV"
   ]
  },
  {
   "cell_type": "code",
   "execution_count": 10,
   "id": "87ca28ad-b412-4f0c-8edf-140e2e0823f4",
   "metadata": {},
   "outputs": [],
   "source": [
    "jet_in_fov = []\n",
    "jet_boxes = []\n",
    "for jetindice in matching_time_jets:\n",
    "    # find the subject associated with the aia frame\n",
    "    subjects_start_time_temp = []\n",
    "    for jet in Jet_catalogue[jetindice].jets:\n",
    "        subjects_start_time_temp.append(jet.time)\n",
    "    subject_idn_temp = np.max(np.where(subjects_start_time_temp < aia_map.date.datetime64))\n",
    "    # extract corresponding box\n",
    "    subject_box_temp = make_subject_box(Jet_catalogue[jetindice].jets[subject_idn_temp])\n",
    "    # make polygon\n",
    "    jet_poly_temp = Polygon(subject_box_temp.corners(no_unit=True))\n",
    "    # check if intersection\n",
    "    jet_in_fov.append(poly_cutout_fov.intersects(jet_poly_temp))\n",
    "    # if intersection, keep the box for further analysis\n",
    "    if poly_cutout_fov.intersects(jet_poly_temp):\n",
    "        jet_boxes.append(subject_box_temp)"
   ]
  },
  {
   "cell_type": "markdown",
   "id": "fc6b726c-2182-4d8d-9410-ba7b31395812",
   "metadata": {},
   "source": [
    "### Plot cutout map and boxes"
   ]
  },
  {
   "cell_type": "code",
   "execution_count": 11,
   "id": "0c54abf7-e59f-43cc-9e1e-46741e229d1d",
   "metadata": {},
   "outputs": [],
   "source": [
    "import matplotlib.pyplot as plt\n",
    "import astropy.units as u"
   ]
  },
  {
   "cell_type": "code",
   "execution_count": null,
   "id": "9522b544-9958-4935-8c9b-dd330665eff0",
   "metadata": {},
   "outputs": [],
   "source": [
    "fig = plt.figure()\n",
    "ax = fig.add_subplot(projection=aia_map)\n",
    "image = aia_map.plot(axes=ax)\n",
    "\n",
    "## Plot all the boxes that were found - this should include the original jet\n",
    "\n",
    "for additional_box in jet_boxes:\n",
    "    for line in additional_box.lines_to_plot():\n",
    "        ax.plot(line[0]*u.arcsec.to(u.deg), line[1]*u.arcsec.to(u.deg),\n",
    "                color='white', linewidth=0.7,\n",
    "                transform=ax.get_transform(\"world\")) \n",
    "\n",
    "plt.show()"
   ]
  },
  {
   "cell_type": "code",
   "execution_count": null,
   "id": "dee1a845-8bc7-4ddb-b18a-d7dcb1b3829c",
   "metadata": {},
   "outputs": [],
   "source": []
  }
 ],
 "metadata": {
  "kernelspec": {
   "display_name": "sunpyenv",
   "language": "python",
   "name": "sunpyenv"
  },
  "language_info": {
   "codemirror_mode": {
    "name": "ipython",
    "version": 3
   },
   "file_extension": ".py",
   "mimetype": "text/x-python",
   "name": "python",
   "nbconvert_exporter": "python",
   "pygments_lexer": "ipython3",
   "version": "3.12.2"
  }
 },
 "nbformat": 4,
 "nbformat_minor": 5
}
