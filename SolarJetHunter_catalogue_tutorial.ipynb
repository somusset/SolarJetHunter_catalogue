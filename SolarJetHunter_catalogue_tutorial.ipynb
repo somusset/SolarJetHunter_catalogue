{
 "cells": [
  {
   "cell_type": "markdown",
   "id": "8691ce2c-18b4-422e-97d9-9fe726370a71",
   "metadata": {},
   "source": [
    "In this notebook we open and read the jet catalogue. You can choose between using the JSON file or the csv file. In both cases, we will end up with the following variables:  \n",
    "- `Jet_start_time`: Observation time of the start of the jet (format YYYY-MM-DDThh:mm:ss)\n",
    "- `Jet_dur`: duration of the jet in minutes\n",
    "- `Jet_original_SOL`:  SOL ID from the HEK event that trigger the search for this jet\n",
    "- `Jet_Bx`: x-coordinate of the jet base position \n",
    "- `Jet_By`: y-coordinate of the jet base position \n",
    "- `Jet_Lon`: longitude of the jet base position \n",
    "- `Jet_Lat`: latitude of the jet base position \n",
    "- `Jet_H`: height of the jet box \n",
    "- `Jet_W`: width of the jet box \n",
    "- `Jet_vel`: jet velocity if calculated \n",
    "- `Jet_sigma`: standard deviation on \n",
    "- `std_H`: uncertainty on jet box height \n",
    "- `std_W`: uncertainty on jet box width \n",
    "- `std_Bx`: uncertainty on jet base x-coordinate \n",
    "- `std_By`: uncertaincty on jet base y-coordinate \n",
    "- `flags`: flags associated with the jet "
   ]
  },
  {
   "cell_type": "markdown",
   "id": "d67562a4-1f15-44b1-9c38-385b3785bccf",
   "metadata": {},
   "source": [
    "# Open the JSON catalogue"
   ]
  },
  {
   "cell_type": "markdown",
   "id": "d8268e44-b5cd-4cc6-9a1a-7564b81a8b64",
   "metadata": {},
   "source": [
    "Import of useful packages and scripts"
   ]
  },
  {
   "cell_type": "code",
   "execution_count": 24,
   "id": "d0991b29-a8f1-43ab-bf3c-bc1a5a1dad7f",
   "metadata": {},
   "outputs": [],
   "source": [
    "#import os\n",
    "from utils.Jet_class_light import json_import_list\n",
    "import numpy as np"
   ]
  },
  {
   "cell_type": "markdown",
   "id": "9cf128ef-0570-4ce8-b306-c5ba54768b06",
   "metadata": {},
   "source": [
    "Define the path to the catalogue file"
   ]
  },
  {
   "cell_type": "code",
   "execution_count": 11,
   "id": "3ad37352-0071-4e80-80bd-c31ef18d4125",
   "metadata": {},
   "outputs": [],
   "source": [
    "json_file = 'exports/Jet_clusters_3.0_2.0.paperID.json'"
   ]
  },
  {
   "cell_type": "markdown",
   "id": "4588a8d8-4a1a-4035-b250-6adbfdd913a9",
   "metadata": {},
   "source": [
    "Open the catalogue"
   ]
  },
  {
   "cell_type": "code",
   "execution_count": 19,
   "id": "e9be68e5-9cf1-4b16-b0c3-e74810bb237c",
   "metadata": {},
   "outputs": [
    {
     "name": "stdout",
     "output_type": "stream",
     "text": [
      "The 883 JetCluster objects are imported from exports/Jet_clusters_3.0_2.0.paperID.json.\n"
     ]
    }
   ],
   "source": [
    "Jet_catalogue=json_import_list(json_file)"
   ]
  },
  {
   "cell_type": "markdown",
   "id": "d6685bff-2faa-48cd-9787-1d24172bc1cd",
   "metadata": {},
   "source": [
    "Read data into variables"
   ]
  },
  {
   "cell_type": "code",
   "execution_count": 20,
   "id": "2f06813d-c5fd-4b57-b9c1-8ccaa7486e04",
   "metadata": {},
   "outputs": [],
   "source": [
    "sjh_identifier = np.array([Jet_catalogue[i].ID for i in range(len(Jet_catalogue))], dtype=str)\n",
    "\n",
    "Jet_start_time = np.array([Jet_catalogue[i].obs_time for i in range(len(Jet_catalogue))], dtype='datetime64')\n",
    "Jet_dur = np.array([Jet_catalogue[i].Duration for i in range(len(Jet_catalogue))], dtype=float)\n",
    "Jet_original_SOL = np.array([Jet_catalogue[i].SOL for i in range(len(Jet_catalogue))], dtype=str)\n",
    "\n",
    "Jet_Bx = np.array([Jet_catalogue[i].Bx for i in range(len(Jet_catalogue))], dtype=float)\n",
    "Jet_By = np.array([Jet_catalogue[i].By for i in range(len(Jet_catalogue))], dtype=float)\n",
    "Jet_Lon = np.array([Jet_catalogue[i].Lon for i in range(len(Jet_catalogue))], dtype=float)\n",
    "Jet_Lat = np.array([Jet_catalogue[i].Lat for i in range(len(Jet_catalogue))], dtype=float)\n",
    "Jet_H = np.array([Jet_catalogue[i].Max_Height for i in range(len(Jet_catalogue))], dtype=float)\n",
    "Jet_W = np.array([Jet_catalogue[i].Width for i in range(len(Jet_catalogue))], dtype=float)\n",
    "Jet_vel = np.array([Jet_catalogue[i].Velocity for i in range(len(Jet_catalogue))], dtype=float)\n",
    "Jet_sigma = np.array([Jet_catalogue[i].sigma for i in range(len(Jet_catalogue))], dtype=float)\n",
    "std_H = np.array([Jet_catalogue[i].std_maxH for i in range(len(Jet_catalogue))], dtype=float)\n",
    "std_W = np.array([Jet_catalogue[i].std_W for i in range(len(Jet_catalogue))], dtype=float)\n",
    "std_Bx = np.array([Jet_catalogue[i].std_Bx for i in range(len(Jet_catalogue))], dtype=float)\n",
    "std_By = np.array([Jet_catalogue[i].std_By for i in range(len(Jet_catalogue))], dtype=float)\n",
    "flags = np.array([Jet_catalogue[i].flag for i in range(len(Jet_catalogue))], dtype=str)"
   ]
  },
  {
   "cell_type": "markdown",
   "id": "c0048d31-2e6e-4ec3-b357-125ca7a3acf5",
   "metadata": {},
   "source": [
    "# Open the CSV catalogue"
   ]
  },
  {
   "cell_type": "code",
   "execution_count": 21,
   "id": "a753d330-bb7f-4471-b127-836b2937ac0a",
   "metadata": {},
   "outputs": [],
   "source": [
    "import numpy as np"
   ]
  },
  {
   "cell_type": "markdown",
   "id": "9b8f4a22-0a89-4f00-82ba-5484afe7945f",
   "metadata": {},
   "source": [
    "Define file path"
   ]
  },
  {
   "cell_type": "code",
   "execution_count": 22,
   "id": "9eef9414-870f-4337-87e3-3224bded3469",
   "metadata": {},
   "outputs": [],
   "source": [
    "file_path = 'exports/Jet_clusters_3.0_2.0_paperID.csv'"
   ]
  },
  {
   "cell_type": "markdown",
   "id": "0dc37c78-ffbc-4eac-8c95-b90429702cf8",
   "metadata": {},
   "source": [
    "Read file into variables"
   ]
  },
  {
   "cell_type": "code",
   "execution_count": 23,
   "id": "6b2ba409-71f3-4ad7-b83b-8e54657dc283",
   "metadata": {},
   "outputs": [
    {
     "name": "stdout",
     "output_type": "stream",
     "text": [
      "883\n"
     ]
    }
   ],
   "source": [
    "Jet_start_time = np.loadtxt(file_path, delimiter=',', unpack=True, usecols=1, dtype='datetime64')\n",
    "Jet_original_SOL = np.loadtxt(file_path, delimiter=',', unpack=True, usecols=2, dtype=str)\n",
    "Jet_dur, Jet_Bx, std_Bx, Jet_By, Jet_By, Jet_Lon, Jet_Lat, Jet_H, upper_H, lower_H, Jet_W, std_W, Jet_vel, Jet_sigma, flags = np.loadtxt(\n",
    "    file_path, delimiter=',', unpack=True, usecols=(3, 4, 5, 6, 7, 8, 9, 10, 11, 12, 13, 14, 15, 16, 17), dtype=float)\n",
    "print(len(Jet_start_time))"
   ]
  },
  {
   "cell_type": "code",
   "execution_count": null,
   "id": "a78056d7-1ba7-4861-aa2c-7ddd692791f7",
   "metadata": {},
   "outputs": [],
   "source": []
  }
 ],
 "metadata": {
  "kernelspec": {
   "display_name": "sunpyenv",
   "language": "python",
   "name": "sunpyenv"
  },
  "language_info": {
   "codemirror_mode": {
    "name": "ipython",
    "version": 3
   },
   "file_extension": ".py",
   "mimetype": "text/x-python",
   "name": "python",
   "nbconvert_exporter": "python",
   "pygments_lexer": "ipython3",
   "version": "3.12.2"
  }
 },
 "nbformat": 4,
 "nbformat_minor": 5
}
