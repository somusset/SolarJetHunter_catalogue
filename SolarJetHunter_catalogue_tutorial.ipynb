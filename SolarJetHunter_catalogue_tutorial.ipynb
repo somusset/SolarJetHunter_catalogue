{
 "cells": [
  {
   "cell_type": "markdown",
   "id": "d67562a4-1f15-44b1-9c38-385b3785bccf",
   "metadata": {},
   "source": [
    "# Open the JSON catalogue"
   ]
  },
  {
   "cell_type": "markdown",
   "id": "d8268e44-b5cd-4cc6-9a1a-7564b81a8b64",
   "metadata": {},
   "source": [
    "Import of useful packages and scripts"
   ]
  },
  {
   "cell_type": "code",
   "execution_count": 1,
   "id": "d0991b29-a8f1-43ab-bf3c-bc1a5a1dad7f",
   "metadata": {},
   "outputs": [],
   "source": [
    "import os\n",
    "from utils.Jet_class_light import json_import_list"
   ]
  },
  {
   "cell_type": "markdown",
   "id": "9cf128ef-0570-4ce8-b306-c5ba54768b06",
   "metadata": {},
   "source": [
    "Define the path to the catalogue file"
   ]
  },
  {
   "cell_type": "markdown",
   "id": "c0048d31-2e6e-4ec3-b357-125ca7a3acf5",
   "metadata": {},
   "source": [
    "# Open the CSV catalogue"
   ]
  },
  {
   "cell_type": "code",
   "execution_count": null,
   "id": "24841668-f80e-4405-ba9a-b329b3d0c856",
   "metadata": {},
   "outputs": [],
   "source": []
  }
 ],
 "metadata": {
  "kernelspec": {
   "display_name": "sunpyenv",
   "language": "python",
   "name": "sunpyenv"
  },
  "language_info": {
   "codemirror_mode": {
    "name": "ipython",
    "version": 3
   },
   "file_extension": ".py",
   "mimetype": "text/x-python",
   "name": "python",
   "nbconvert_exporter": "python",
   "pygments_lexer": "ipython3",
   "version": "3.12.2"
  }
 },
 "nbformat": 4,
 "nbformat_minor": 5
}
