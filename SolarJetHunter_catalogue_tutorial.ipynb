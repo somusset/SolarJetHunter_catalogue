{
 "cells": [
  {
   "cell_type": "markdown",
   "id": "d67562a4-1f15-44b1-9c38-385b3785bccf",
   "metadata": {},
   "source": [
    "# Open the JSON catalogue"
   ]
  },
  {
   "cell_type": "markdown",
   "id": "d8268e44-b5cd-4cc6-9a1a-7564b81a8b64",
   "metadata": {},
   "source": [
    "Import of useful packages and scripts"
   ]
  },
  {
   "cell_type": "code",
   "execution_count": 1,
   "id": "d0991b29-a8f1-43ab-bf3c-bc1a5a1dad7f",
   "metadata": {},
   "outputs": [],
   "source": [
    "import os\n",
    "from utils.Jet_class_light import json_import_list"
   ]
  },
  {
   "cell_type": "markdown",
   "id": "9cf128ef-0570-4ce8-b306-c5ba54768b06",
   "metadata": {},
   "source": [
    "Define the path to the catalogue file"
   ]
  },
  {
   "cell_type": "code",
   "execution_count": 2,
   "id": "3ad37352-0071-4e80-80bd-c31ef18d4125",
   "metadata": {},
   "outputs": [],
   "source": [
    "json_file = 'exports/Jet_clusters_3.0_2.0.paperID.json'"
   ]
  },
  {
   "cell_type": "markdown",
   "id": "4588a8d8-4a1a-4035-b250-6adbfdd913a9",
   "metadata": {},
   "source": [
    "Open the catalogue"
   ]
  },
  {
   "cell_type": "code",
   "execution_count": 3,
   "id": "e9be68e5-9cf1-4b16-b0c3-e74810bb237c",
   "metadata": {},
   "outputs": [
    {
     "name": "stdout",
     "output_type": "stream",
     "text": [
      "The 883 JetCluster objects are imported from exports/Jet_clusters_3.0_2.0.paperID.json.\n"
     ]
    }
   ],
   "source": [
    "Jet_clusters=json_import_list(json_file)"
   ]
  },
  {
   "cell_type": "markdown",
   "id": "c0048d31-2e6e-4ec3-b357-125ca7a3acf5",
   "metadata": {},
   "source": [
    "# Open the CSV catalogue"
   ]
  },
  {
   "cell_type": "markdown",
   "id": "9b8f4a22-0a89-4f00-82ba-5484afe7945f",
   "metadata": {},
   "source": [
    "Coming soon..."
   ]
  },
  {
   "cell_type": "markdown",
   "id": "0dc37c78-ffbc-4eac-8c95-b90429702cf8",
   "metadata": {},
   "source": [
    "# Read data"
   ]
  },
  {
   "cell_type": "code",
   "execution_count": 5,
   "id": "162236ad-6c6e-4cc4-86fa-f54c3fdbc580",
   "metadata": {},
   "outputs": [],
   "source": [
    "import numpy as np"
   ]
  },
  {
   "cell_type": "code",
   "execution_count": 6,
   "id": "2f06813d-c5fd-4b57-b9c1-8ccaa7486e04",
   "metadata": {},
   "outputs": [],
   "source": [
    "sjh_identifier = np.array([Jet_clusters[i].ID for i in range(len(Jet_clusters))], dtype=str)\n",
    "\n",
    "# date: Observation time of the start of the jet (format YYYY-MM-DDThh:mm:ss)\n",
    "Cluster_date = np.array([Jet_clusters[i].obs_time for i in range(len(Jet_clusters))], dtype='datetime64')\n",
    "# duration of the jet (minutes)\n",
    "stat_dur = np.array([Jet_clusters[i].Duration for i in range(len(Jet_clusters))], dtype=float)\n",
    "\n",
    "Cluster_SOL = np.array([Jet_clusters[i].SOL for i in range(len(Jet_clusters))], dtype=str)\n",
    "\n",
    "stat_Bx = np.array([Jet_clusters[i].Bx for i in range(len(Jet_clusters))], dtype=float)\n",
    "stat_By = np.array([Jet_clusters[i].By for i in range(len(Jet_clusters))], dtype=float)\n",
    "stat_Lon = np.array([Jet_clusters[i].Lon for i in range(len(Jet_clusters))], dtype=float)\n",
    "stat_Lat = np.array([Jet_clusters[i].Lat for i in range(len(Jet_clusters))], dtype=float)\n",
    "stat_H = np.array([Jet_clusters[i].Max_Height for i in range(len(Jet_clusters))], dtype=float)\n",
    "stat_W = np.array([Jet_clusters[i].Width for i in range(len(Jet_clusters))], dtype=float)\n",
    "stat_vel = np.array([Jet_clusters[i].Velocity for i in range(len(Jet_clusters))], dtype=float)\n",
    "stat_sigma = np.array([Jet_clusters[i].sigma for i in range(len(Jet_clusters))], dtype=float)\n",
    "std_H = np.array([Jet_clusters[i].std_maxH for i in range(len(Jet_clusters))], dtype=float)\n",
    "std_W = np.array([Jet_clusters[i].std_W for i in range(len(Jet_clusters))], dtype=float)\n",
    "std_Bx = np.array([Jet_clusters[i].std_Bx for i in range(len(Jet_clusters))], dtype=float)\n",
    "std_By = np.array([Jet_clusters[i].std_By for i in range(len(Jet_clusters))], dtype=float)\n",
    "flags = np.array([Jet_clusters[i].flag for i in range(len(Jet_clusters))], dtype=str)"
   ]
  },
  {
   "cell_type": "code",
   "execution_count": null,
   "id": "ee4e17a5-fdc1-477c-8459-ca3ce784cffe",
   "metadata": {},
   "outputs": [],
   "source": []
  }
 ],
 "metadata": {
  "kernelspec": {
   "display_name": "sunpyenv",
   "language": "python",
   "name": "sunpyenv"
  },
  "language_info": {
   "codemirror_mode": {
    "name": "ipython",
    "version": 3
   },
   "file_extension": ".py",
   "mimetype": "text/x-python",
   "name": "python",
   "nbconvert_exporter": "python",
   "pygments_lexer": "ipython3",
   "version": "3.12.2"
  }
 },
 "nbformat": 4,
 "nbformat_minor": 5
}
